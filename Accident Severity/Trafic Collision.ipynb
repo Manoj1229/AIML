{
 "cells": [
  {
   "cell_type": "code",
   "execution_count": null,
   "metadata": {},
   "outputs": [],
   "source": [
    "def PreProcessData(data):\n",
    "    data = data.replace(np.NaN, \"0.0\", regex=True)\n",
    "    LabelEncoder_X = LabelEncoder()\n",
    "\n",
    "    labels = data.iloc[:,2].values\n",
    "    t = data.drop(['Collision_Ref_No','Collision_Severity'], axis=1)\n",
    "    data = t.iloc[:].values\n",
    "\n",
    "    data[:,0] = LabelEncoder_X.fit_transform(data[:,0])\n",
    "    data[:,1] = LabelEncoder_X.fit_transform(data[:,1])\n",
    "    return data, labels"
   ]
  },
  {
   "cell_type": "code",
   "execution_count": 106,
   "metadata": {},
   "outputs": [],
   "source": [
    "import pandas as pd\n",
    "import numpy as np\n",
    "#import sklearn as sk\n",
    "from sklearn import tree\n",
    "from sklearn.preprocessing import LabelEncoder\n",
    "\n",
    "#data = pd.read_csv(\"Accident_train.csv\", dtype={'1.4': np.float64} )\n",
    "data = pd.read_csv(\"Accident_train.csv\" )\n",
    "testdata = pd.read_csv(\"Accident_test.csv\" )\n",
    "#testdata = testdata.replace(np.NaN, \"0.0\", regex=True)\n",
    "\n",
    "train_data, train_labels = PreProcessData(data)\n",
    "test_data, test_labels = PreProcessData(testdata)\n",
    "\n",
    "clf = tree.DecisionTreeClassifier()\n",
    "clf = clf.fit(train_data, train_labels)\n",
    "\n",
    "pdata = clf.predict(test_data)\n",
    "\n",
    "names = {'Collision_Severity'}\n",
    "df = pd.DataFrame(pdata)\n",
    "df.columns = names\n",
    "df.index = df.index +1\n",
    "\n",
    "df.to_csv(\"output.csv\")\n",
    "\n",
    "#print(pdata)\n"
   ]
  },
  {
   "cell_type": "code",
   "execution_count": 88,
   "metadata": {},
   "outputs": [],
   "source": [
    "\n"
   ]
  },
  {
   "cell_type": "code",
   "execution_count": null,
   "metadata": {},
   "outputs": [],
   "source": []
  }
 ],
 "metadata": {
  "kernelspec": {
   "display_name": "Python 3",
   "language": "python",
   "name": "python3"
  },
  "language_info": {
   "codemirror_mode": {
    "name": "ipython",
    "version": 3
   },
   "file_extension": ".py",
   "mimetype": "text/x-python",
   "name": "python",
   "nbconvert_exporter": "python",
   "pygments_lexer": "ipython3",
   "version": "3.5.2"
  }
 },
 "nbformat": 4,
 "nbformat_minor": 2
}
